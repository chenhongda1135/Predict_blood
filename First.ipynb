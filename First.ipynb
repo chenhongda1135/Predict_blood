{
 "cells": [
  {
   "cell_type": "code",
   "execution_count": 13,
   "metadata": {
    "collapsed": false
   },
   "outputs": [],
   "source": [
    "import pandas as pd\n",
    "import numpy as np\n",
    "import xgboost as xgb\n",
    "from  sklearn import cross_validation"
   ]
  },
  {
   "cell_type": "code",
   "execution_count": 2,
   "metadata": {
    "collapsed": true
   },
   "outputs": [],
   "source": [
    "user_df = pd.read_csv(r'd_train.csv',encoding=\"gb2312\")"
   ]
  },
  {
   "cell_type": "code",
   "execution_count": 30,
   "metadata": {
    "collapsed": false
   },
   "outputs": [],
   "source": [
    "data = user_df.fillna(0)\n",
    "data = data.drop(['id','体检日期'],1)"
   ]
  },
  {
   "cell_type": "code",
   "execution_count": 34,
   "metadata": {
    "collapsed": false
   },
   "outputs": [
    {
     "name": "stderr",
     "output_type": "stream",
     "text": [
      "C:\\Users\\Administrator\\Anaconda3\\lib\\site-packages\\ipykernel\\__main__.py:2: SettingWithCopyWarning: \n",
      "A value is trying to be set on a copy of a slice from a DataFrame\n",
      "\n",
      "See the caveats in the documentation: http://pandas.pydata.org/pandas-docs/stable/indexing.html#indexing-view-versus-copy\n",
      "  from ipykernel import kernelapp as app\n",
      "C:\\Users\\Administrator\\Anaconda3\\lib\\site-packages\\ipykernel\\__main__.py:4: SettingWithCopyWarning: \n",
      "A value is trying to be set on a copy of a slice from a DataFrame\n",
      "\n",
      "See the caveats in the documentation: http://pandas.pydata.org/pandas-docs/stable/indexing.html#indexing-view-versus-copy\n",
      "C:\\Users\\Administrator\\Anaconda3\\lib\\site-packages\\ipykernel\\__main__.py:6: SettingWithCopyWarning: \n",
      "A value is trying to be set on a copy of a slice from a DataFrame\n",
      "\n",
      "See the caveats in the documentation: http://pandas.pydata.org/pandas-docs/stable/indexing.html#indexing-view-versus-copy\n"
     ]
    }
   ],
   "source": [
    "mask = data['性别']=='男'\n",
    "data['性别'][mask]=1\n",
    "mask = data['性别']=='女'\n",
    "data['性别'][mask]=0\n",
    "mask = data['性别']=='??'\n",
    "data['性别'][mask]=2"
   ]
  },
  {
   "cell_type": "code",
   "execution_count": 36,
   "metadata": {
    "collapsed": false
   },
   "outputs": [
    {
     "data": {
      "text/html": [
       "<div>\n",
       "<table border=\"1\" class=\"dataframe\">\n",
       "  <thead>\n",
       "    <tr style=\"text-align: right;\">\n",
       "      <th></th>\n",
       "      <th>年龄</th>\n",
       "      <th>*天门冬氨酸氨基转换酶</th>\n",
       "      <th>*丙氨酸氨基转换酶</th>\n",
       "      <th>*碱性磷酸酶</th>\n",
       "      <th>*r-谷氨酰基转换酶</th>\n",
       "      <th>*总蛋白</th>\n",
       "      <th>白蛋白</th>\n",
       "      <th>*球蛋白</th>\n",
       "      <th>白球比例</th>\n",
       "      <th>甘油三酯</th>\n",
       "      <th>...</th>\n",
       "      <th>血小板计数</th>\n",
       "      <th>血小板平均体积</th>\n",
       "      <th>血小板体积分布宽度</th>\n",
       "      <th>血小板比积</th>\n",
       "      <th>中性粒细胞%</th>\n",
       "      <th>淋巴细胞%</th>\n",
       "      <th>单核细胞%</th>\n",
       "      <th>嗜酸细胞%</th>\n",
       "      <th>嗜碱细胞%</th>\n",
       "      <th>血糖</th>\n",
       "    </tr>\n",
       "    <tr>\n",
       "      <th>性别</th>\n",
       "      <th></th>\n",
       "      <th></th>\n",
       "      <th></th>\n",
       "      <th></th>\n",
       "      <th></th>\n",
       "      <th></th>\n",
       "      <th></th>\n",
       "      <th></th>\n",
       "      <th></th>\n",
       "      <th></th>\n",
       "      <th></th>\n",
       "      <th></th>\n",
       "      <th></th>\n",
       "      <th></th>\n",
       "      <th></th>\n",
       "      <th></th>\n",
       "      <th></th>\n",
       "      <th></th>\n",
       "      <th></th>\n",
       "      <th></th>\n",
       "      <th></th>\n",
       "    </tr>\n",
       "  </thead>\n",
       "  <tbody>\n",
       "    <tr>\n",
       "      <th>0</th>\n",
       "      <td>124646</td>\n",
       "      <td>49330.82</td>\n",
       "      <td>42254.42</td>\n",
       "      <td>171561.28</td>\n",
       "      <td>50083.34</td>\n",
       "      <td>153950.40</td>\n",
       "      <td>90155.44</td>\n",
       "      <td>63794.96</td>\n",
       "      <td>2869.42</td>\n",
       "      <td>3005.79</td>\n",
       "      <td>...</td>\n",
       "      <td>728823.0</td>\n",
       "      <td>29453.7</td>\n",
       "      <td>36536.6</td>\n",
       "      <td>773.672</td>\n",
       "      <td>157472.4</td>\n",
       "      <td>93644.8</td>\n",
       "      <td>18037.0</td>\n",
       "      <td>4960.2</td>\n",
       "      <td>1589.1</td>\n",
       "      <td>14955.91</td>\n",
       "    </tr>\n",
       "    <tr>\n",
       "      <th>1</th>\n",
       "      <td>132466</td>\n",
       "      <td>69143.91</td>\n",
       "      <td>79964.23</td>\n",
       "      <td>215014.55</td>\n",
       "      <td>121334.35</td>\n",
       "      <td>185379.61</td>\n",
       "      <td>112383.15</td>\n",
       "      <td>72996.46</td>\n",
       "      <td>3771.98</td>\n",
       "      <td>5157.32</td>\n",
       "      <td>...</td>\n",
       "      <td>694798.0</td>\n",
       "      <td>30397.9</td>\n",
       "      <td>38209.3</td>\n",
       "      <td>731.458</td>\n",
       "      <td>161573.5</td>\n",
       "      <td>96355.7</td>\n",
       "      <td>20532.7</td>\n",
       "      <td>6535.6</td>\n",
       "      <td>1806.2</td>\n",
       "      <td>16814.38</td>\n",
       "    </tr>\n",
       "    <tr>\n",
       "      <th>2</th>\n",
       "      <td>53</td>\n",
       "      <td>34.12</td>\n",
       "      <td>30.93</td>\n",
       "      <td>183.32</td>\n",
       "      <td>222.16</td>\n",
       "      <td>75.06</td>\n",
       "      <td>42.70</td>\n",
       "      <td>32.36</td>\n",
       "      <td>1.32</td>\n",
       "      <td>1.77</td>\n",
       "      <td>...</td>\n",
       "      <td>237.0</td>\n",
       "      <td>10.1</td>\n",
       "      <td>11.6</td>\n",
       "      <td>0.240</td>\n",
       "      <td>52.2</td>\n",
       "      <td>37.6</td>\n",
       "      <td>6.5</td>\n",
       "      <td>2.6</td>\n",
       "      <td>1.1</td>\n",
       "      <td>5.03</td>\n",
       "    </tr>\n",
       "  </tbody>\n",
       "</table>\n",
       "<p>3 rows × 39 columns</p>\n",
       "</div>"
      ],
      "text/plain": [
       "        年龄  *天门冬氨酸氨基转换酶  *丙氨酸氨基转换酶     *碱性磷酸酶  *r-谷氨酰基转换酶       *总蛋白  \\\n",
       "性别                                                                     \n",
       "0   124646     49330.82   42254.42  171561.28    50083.34  153950.40   \n",
       "1   132466     69143.91   79964.23  215014.55   121334.35  185379.61   \n",
       "2       53        34.12      30.93     183.32      222.16      75.06   \n",
       "\n",
       "          白蛋白      *球蛋白     白球比例     甘油三酯    ...        血小板计数  血小板平均体积  \\\n",
       "性别                                           ...                         \n",
       "0    90155.44  63794.96  2869.42  3005.79    ...     728823.0  29453.7   \n",
       "1   112383.15  72996.46  3771.98  5157.32    ...     694798.0  30397.9   \n",
       "2       42.70     32.36     1.32     1.77    ...        237.0     10.1   \n",
       "\n",
       "    血小板体积分布宽度    血小板比积    中性粒细胞%    淋巴细胞%    单核细胞%   嗜酸细胞%   嗜碱细胞%        血糖  \n",
       "性别                                                                            \n",
       "0     36536.6  773.672  157472.4  93644.8  18037.0  4960.2  1589.1  14955.91  \n",
       "1     38209.3  731.458  161573.5  96355.7  20532.7  6535.6  1806.2  16814.38  \n",
       "2        11.6    0.240      52.2     37.6      6.5     2.6     1.1      5.03  \n",
       "\n",
       "[3 rows x 39 columns]"
      ]
     },
     "execution_count": 36,
     "metadata": {},
     "output_type": "execute_result"
    }
   ],
   "source": [
    "train,test,train_l,test_l = train_test_split(data.ix[:,-1, y, test_size=0.01, random_state=1729)"
   ]
  },
  {
   "cell_type": "code",
   "execution_count": null,
   "metadata": {
    "collapsed": true
   },
   "outputs": [],
   "source": []
  }
 ],
 "metadata": {
  "kernelspec": {
   "display_name": "Python 3",
   "language": "python",
   "name": "python3"
  },
  "language_info": {
   "codemirror_mode": {
    "name": "ipython",
    "version": 3
   },
   "file_extension": ".py",
   "mimetype": "text/x-python",
   "name": "python",
   "nbconvert_exporter": "python",
   "pygments_lexer": "ipython3",
   "version": "3.6.0"
  }
 },
 "nbformat": 4,
 "nbformat_minor": 2
}
